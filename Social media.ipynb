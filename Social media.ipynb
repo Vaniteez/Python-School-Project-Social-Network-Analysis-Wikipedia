{
 "cells": [
  {
   "cell_type": "code",
   "execution_count": 3,
   "id": "3b5f6f46-f3e4-498e-a12f-496d58c2dc0d",
   "metadata": {},
   "outputs": [
    {
     "name": "stdout",
     "output_type": "stream",
     "text": [
      "Files have been successfully generated:\n",
      "- Top and Bottom Nodes: Top_Bottom_Nodes.csv\n",
      "- Filtered Dataset with Weights: Filtered_Wiki-Vote.csv\n"
     ]
    }
   ],
   "source": [
    "import pandas as pd\n",
    "\n",
    "# Load the data\n",
    "file_path = 'Wiki-Vote.csv'\n",
    "data = pd.read_csv(file_path, delimiter=';') # Assuming the delimiter is ';'\n",
    "\n",
    "# Calculate in-degree and out-degree\n",
    "out_degree = data['FromNodeId'].value_counts()\n",
    "in_degree = data['ToNodeId'].value_counts()\n",
    "\n",
    "# Combine in-degree and out-degree to calculate total activity\n",
    "total_activity = pd.DataFrame({'OutDegree': out_degree, 'InDegree': in_degree}).fillna(0)\n",
    "total_activity['TotalActivity'] = total_activity['OutDegree'] + total_activity['InDegree']\n",
    "\n",
    "# Step b: Rank nodes by total activity\n",
    "total_activity = total_activity.sort_values(by='TotalActivity', ascending=False)\n",
    "\n",
    "# Step c: Select the top 20 most active and bottom 20 least active nodes\n",
    "top_20_nodes = total_activity.head(20)\n",
    "bottom_20_nodes = total_activity.tail(20)\n",
    "selected_nodes = pd.concat([top_20_nodes, bottom_20_nodes])\n",
    "\n",
    "# Create a subset of the dataset with these 40 nodes\n",
    "selected_node_ids = selected_nodes.index\n",
    "filtered_data = data[(data['FromNodeId'].isin(selected_node_ids)) | (data['ToNodeId'].isin(selected_node_ids))]\n",
    "\n",
    "# Add a Weight column to count the number of interactions between Source and Target\n",
    "filtered_data = filtered_data.groupby(['FromNodeId', 'ToNodeId']).size().reset_index(name='Weight')\n",
    "filtered_data.columns = ['Source', 'Target', 'Weight']\n",
    "\n",
    "# Save the results\n",
    "selected_nodes.to_csv('Top_Bottom_Nodes.csv', index_label='NodeId')\n",
    "filtered_data.to_csv('Filtered_Wiki-Vote.csv', index=False)\n",
    "\n",
    "print(\"Files have been successfully generated:\")\n",
    "print(\"- Top and Bottom Nodes: Top_Bottom_Nodes.csv\")\n",
    "print(\"- Filtered Dataset with Weights: Filtered_Wiki-Vote.csv\")\n"
   ]
  },
  {
   "cell_type": "code",
   "execution_count": null,
   "id": "b61053fa-ebce-436b-bc98-d02a37b5721f",
   "metadata": {},
   "outputs": [],
   "source": []
  }
 ],
 "metadata": {
  "kernelspec": {
   "display_name": "Python 3 (ipykernel)",
   "language": "python",
   "name": "python3"
  },
  "language_info": {
   "codemirror_mode": {
    "name": "ipython",
    "version": 3
   },
   "file_extension": ".py",
   "mimetype": "text/x-python",
   "name": "python",
   "nbconvert_exporter": "python",
   "pygments_lexer": "ipython3",
   "version": "3.12.4"
  }
 },
 "nbformat": 4,
 "nbformat_minor": 5
}
